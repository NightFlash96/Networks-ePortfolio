{
 "cells": [
  {
   "cell_type": "markdown",
   "metadata": {},
   "source": [
    "This is the client side. \n",
    "\n",
    "Below is a TCP client which connects to a TCP server.\n",
    "\n",
    "Exercise 1: measure how long it took to send the data over a TCP server.\n",
    "\n",
    "With a TCP connection, on localhost the RTT is zero. There is no delay since both the server and the client are both on my computer."
   ]
  },
  {
   "cell_type": "code",
   "execution_count": 7,
   "metadata": {},
   "outputs": [
    {
     "name": "stdout",
     "output_type": "stream",
     "text": [
      "Server response: ACK: hello\n",
      "RTT: 0:00:00.007999\n"
     ]
    }
   ],
   "source": [
    "# TCP client\n",
    "\n",
    "import socket\n",
    "import datetime\n",
    "\n",
    "client_socket = socket.socket(socket.AF_INET, socket.SOCK_STREAM)\n",
    "client_socket.connect(('localhost', 65432))\n",
    "\n",
    "message = input(\"Enter message: \")\n",
    "sendtime = datetime.datetime.now()\n",
    "client_socket.sendall(message.encode())\n",
    "\n",
    "response = client_socket.recv(1024)\n",
    "recvtime = datetime.datetime.now()\n",
    "print(f\"Server response: {response.decode()}\")\n",
    "print(f\"RTT: {recvtime - sendtime}\")"
   ]
  },
  {
   "cell_type": "markdown",
   "metadata": {},
   "source": [
    "Below is a UDP client which sends data to a UDP server.\n",
    "\n",
    "Exercise 2: measure the time to send data over UDP.\n",
    "\n",
    "Using UDP, even with the server and client on the same computer, there is a very slight delay in sending a recieving back data. About 8 hundreths of a second.\n",
    "\n",
    "Output:\n",
    "\n",
    "Server response: ACK: Hello\n",
    "RTT: 0:00:00.007996"
   ]
  },
  {
   "cell_type": "code",
   "execution_count": 4,
   "metadata": {},
   "outputs": [
    {
     "name": "stdout",
     "output_type": "stream",
     "text": [
      "Server response: ACK: Hello\n",
      "RTT: 0:00:00.007996\n"
     ]
    }
   ],
   "source": [
    "# UDP client\n",
    "\n",
    "import socket\n",
    "import datetime\n",
    "\n",
    "client_socket = socket.socket(socket.AF_INET, socket.SOCK_DGRAM)\n",
    "server_address = ('localhost', 65432)\n",
    "\n",
    "message = input(\"Enter message: \")\n",
    "sendtime = datetime.datetime.now()\n",
    "client_socket.sendto(message.encode(), server_address)\n",
    "\n",
    "response, server = client_socket.recvfrom(1024)\n",
    "recvtime = datetime.datetime.now()\n",
    "print(f\"Server response: {response.decode()}\")\n",
    "print(f\"RTT: {recvtime - sendtime}\")\n",
    "\n",
    "client_socket.close()"
   ]
  }
 ],
 "metadata": {
  "kernelspec": {
   "display_name": "Python 3",
   "language": "python",
   "name": "python3"
  },
  "language_info": {
   "codemirror_mode": {
    "name": "ipython",
    "version": 3
   },
   "file_extension": ".py",
   "mimetype": "text/x-python",
   "name": "python",
   "nbconvert_exporter": "python",
   "pygments_lexer": "ipython3",
   "version": "3.12.7"
  }
 },
 "nbformat": 4,
 "nbformat_minor": 2
}
