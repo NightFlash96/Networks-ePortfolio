{
 "cells": [
  {
   "cell_type": "code",
   "execution_count": null,
   "metadata": {},
   "outputs": [
    {
     "name": "stdout",
     "output_type": "stream",
     "text": [
      "TCP Server is listening...\n",
      "Connected to ('127.0.0.1', 50566)\n",
      "Received: hellooooo\n",
      "Connected to ('127.0.0.1', 50580)\n",
      "Received: fat cheese\n"
     ]
    }
   ],
   "source": [
    "import socket\n",
    "# Create a TCP socket\n",
    "server_socket = socket.socket(socket.AF_INET, socket.SOCK_STREAM)\n",
    "server_socket.bind(('localhost', 65432))\n",
    "server_socket.listen(1) # Allow 1 pending connection\n",
    "print(\"TCP Server is listening...\")\n",
    "while True:\n",
    "    client_socket, client_address = server_socket.accept()\n",
    "    print(f\"Connected to {client_address}\")\n",
    "    data = client_socket.recv(1024)\n",
    "    print(f\"Received: {data.decode()}\")\n",
    "    # Echo back the data\n",
    "    client_socket.sendall(b\"ACK: \" + data)\n",
    "    client_socket.close()"
   ]
  }
 ],
 "metadata": {
  "kernelspec": {
   "display_name": "Python 3",
   "language": "python",
   "name": "python3"
  },
  "language_info": {
   "codemirror_mode": {
    "name": "ipython",
    "version": 3
   },
   "file_extension": ".py",
   "mimetype": "text/x-python",
   "name": "python",
   "nbconvert_exporter": "python",
   "pygments_lexer": "ipython3",
   "version": "3.12.7"
  }
 },
 "nbformat": 4,
 "nbformat_minor": 2
}
