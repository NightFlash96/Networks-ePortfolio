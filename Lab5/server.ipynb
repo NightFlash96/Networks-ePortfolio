{
 "cells": [
  {
   "cell_type": "markdown",
   "metadata": {},
   "source": [
    "Lab 5: Creating a TCP and UDP server\n",
    "\n",
    "The code below is a simple TCP server that uses the listen() method to listen on port 65432 and echo back any data it recieves."
   ]
  },
  {
   "cell_type": "code",
   "execution_count": null,
   "metadata": {},
   "outputs": [
    {
     "name": "stdout",
     "output_type": "stream",
     "text": [
      "TCP Server is listening...\n",
      "Connected to ('127.0.0.1', 63716)\n",
      "Received: hello\n",
      "Connected to ('127.0.0.1', 63719)\n",
      "Received: hello\n"
     ]
    }
   ],
   "source": [
    "import socket\n",
    "\n",
    "# Create a TCP socket\n",
    "server_socket = socket.socket(socket.AF_INET, socket.SOCK_STREAM)\n",
    "server_socket.bind(('localhost', 65432))\n",
    "server_socket.listen(1) # Allow 1 pending connection\n",
    "print(\"TCP Server is listening...\")\n",
    "while True:\n",
    "    client_socket, client_address = server_socket.accept()\n",
    "    print(f\"Connected to {client_address}\")\n",
    "    data = client_socket.recv(1024)\n",
    "    print(f\"Received: {data.decode()}\")\n",
    "    # Echo back the data\n",
    "    client_socket.sendall(b\"ACK: \" + data)\n",
    "    client_socket.close()\n",
    "\n",
    "# Logging data in a TXT file over TCP\n",
    "\n",
    "with open(\"received_file.txt\", \"wb\") as f:\n",
    "    while True:\n",
    "        data = client_socket.recv(1024)\n",
    "        if not data:\n",
    "            break\n",
    "        f.write(data)\n",
    "print(\"File received.\")"
   ]
  },
  {
   "cell_type": "markdown",
   "metadata": {},
   "source": [
    "Below is the same server but converted to use UDP instead of TCP."
   ]
  },
  {
   "cell_type": "code",
   "execution_count": null,
   "metadata": {},
   "outputs": [
    {
     "name": "stdout",
     "output_type": "stream",
     "text": [
      "UDP Server is listening...\n",
      "Received from ('127.0.0.1', 59912): Hello\n"
     ]
    }
   ],
   "source": [
    "import socket\n",
    "\n",
    "# Create a UDP socket\n",
    "server_socket = socket.socket(socket.AF_INET, socket.SOCK_DGRAM)\n",
    "server_socket.bind(('localhost', 65432))\n",
    "\n",
    "print(\"UDP Server is listening...\")\n",
    "\n",
    "while True:\n",
    "    data, client_address = server_socket.recvfrom(1024) # Receive data from client address\n",
    "    print(f\"Received from {client_address}: {data.decode()}\")\n",
    "    \n",
    "    # Echo back the data\n",
    "    server_socket.sendto(b\"ACK: \" + data, client_address)"
   ]
  }
 ],
 "metadata": {
  "kernelspec": {
   "display_name": "Python 3",
   "language": "python",
   "name": "python3"
  },
  "language_info": {
   "codemirror_mode": {
    "name": "ipython",
    "version": 3
   },
   "file_extension": ".py",
   "mimetype": "text/x-python",
   "name": "python",
   "nbconvert_exporter": "python",
   "pygments_lexer": "ipython3",
   "version": "3.12.7"
  }
 },
 "nbformat": 4,
 "nbformat_minor": 2
}
