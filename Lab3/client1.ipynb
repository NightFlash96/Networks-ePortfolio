{
 "cells": [
  {
   "cell_type": "code",
   "execution_count": null,
   "metadata": {},
   "outputs": [
    {
     "name": "stdout",
     "output_type": "stream",
     "text": [
      "You: \n",
      "Server: Hello there\n",
      "You: Hi\n",
      "Server: hello\n",
      "You: hi there\n"
     ]
    }
   ],
   "source": [
    "import socket\n",
    "client_socket = socket.socket(socket.AF_INET, socket.SOCK_DGRAM)\n",
    "\n",
    "server_address = (\"localhost\", 65433)\n",
    "\n",
    "while True:\n",
    "    # Get message from user\n",
    "    message = input(\"Client 1: \").encode()\n",
    "    # Send message to server\n",
    "    client_socket.sendto(message, server_address)\n",
    "    print(\"You:\", message.decode())\n",
    "    # Receive message from server\n",
    "    data, server = client_socket.recvfrom(2048)\n",
    "    print(\"Server:\", data.decode())\n",
    "\n",
    "client_socket.close()"
   ]
  }
 ],
 "metadata": {
  "kernelspec": {
   "display_name": "Python 3",
   "language": "python",
   "name": "python3"
  },
  "language_info": {
   "codemirror_mode": {
    "name": "ipython",
    "version": 3
   },
   "file_extension": ".py",
   "mimetype": "text/x-python",
   "name": "python",
   "nbconvert_exporter": "python",
   "pygments_lexer": "ipython3",
   "version": "3.12.7"
  }
 },
 "nbformat": 4,
 "nbformat_minor": 2
}
