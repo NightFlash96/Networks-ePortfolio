{
 "cells": [
  {
   "cell_type": "markdown",
   "metadata": {},
   "source": [
    "The code below takes a website URL as an input and uses the socket.gethostbyname() function to try and find the corresponding URL. The try/except block is crucial to handle potential errors during the IP address lookup process."
   ]
  },
  {
   "cell_type": "code",
   "execution_count": 3,
   "metadata": {},
   "outputs": [
    {
     "name": "stdout",
     "output_type": "stream",
     "text": [
      "The IP address of whosampled.com is 104.22.43.129\n"
     ]
    }
   ],
   "source": [
    "import socket\n",
    "\n",
    "def get_ip_address(website_url):\n",
    "    try:\n",
    "        ip_address = socket.gethostbyname(website_url)\n",
    "        print(f\"The IP address of {website_url} is {ip_address}\")\n",
    "    except socket.gaierror:\n",
    "        print(f\"Unable to get the IP address for {website_url}\")\n",
    "\n",
    "website = input(\"Enter the website URL (without 'https://'): \")\n",
    "get_ip_address(website)"
   ]
  },
  {
   "cell_type": "markdown",
   "metadata": {},
   "source": [
    "Exercise 1 results:\n",
    "\n",
    "- The IP address of youtube.com is 216.58.212.206\n",
    "- The IP address of bandcamp.com is 151.101.193.91\n",
    "- The IP address of whosampled.com is 104.22.43.129"
   ]
  },
  {
   "cell_type": "markdown",
   "metadata": {},
   "source": [
    "Trace Route:\n",
    "\n",
    "Trace route, or tracert for short, is a command-line utility ussed to trace the network route packets take to reach a specific destination. On windows it's \"tracert\" on unix-like systems (Linux, MacOS) it's \"traceroute\".\n",
    "\n",
    "Tracert works by sending a series of packets to the destination, gradually increasing the Time To Live (TTL) value of each packet. The TTL is a limit on how many \"hops\" a packet can take before it's discarded.\n",
    "\n",
    "First Packet (TTL = 1): The first packet has a TTL of 1, which means it will likely expire after the first hop (the first router it encounters). The router then sends an ICMP (Internet Control Message Protocol) \"Time Exceeded\" message back to the sender (this computer). tracert records the IP address and the round-trip time RTT of this router.\n",
    "\n",
    "This process continues with the TTL increasing by one for each packet, until the packet reaches its final destination. When the destination is reached, it responds with an ICMP \"Echo Reply\" message.\n",
    "\n",
    "Exercise 2:"
   ]
  },
  {
   "cell_type": "code",
   "execution_count": 10,
   "metadata": {},
   "outputs": [
    {
     "name": "stdout",
     "output_type": "stream",
     "text": [
      "\n",
      "Tracing route to youtube.com [216.58.212.206]\n",
      "over a maximum of 30 hops:\n",
      "\n",
      "  1     *        *        *     Request timed out.\n",
      "  2     *        *        *     Request timed out.\n",
      "  3     *        *        *     Request timed out.\n",
      "  4     *        *        *     Request timed out.\n",
      "  5     *        *        *     Request timed out.\n",
      "  6     *        *        *     Request timed out.\n",
      "  7     *        *        *     Request timed out.\n",
      "  8     *        *        *     Request timed out.\n",
      "  9     5 ms     2 ms     3 ms  lhr25s27-in-f14.1e100.net [216.58.212.206] \n",
      "\n",
      "Trace complete.\n",
      "\n"
     ]
    }
   ],
   "source": [
    "import subprocess\n",
    "\n",
    "def tracert(domain):\n",
    "    try:\n",
    "        result = subprocess.run([\"tracert\", domain], capture_output=True, text=True)\n",
    "        print(result.stdout)\n",
    "    except FileNotFoundError:\n",
    "        print(\"tracert command not found. Make sure it's available.\")\n",
    "    except Exception as e: #catching general exceptions\n",
    "        print(f\"An error occurred: {e}\")\n",
    "\n",
    "domain = input(\"Enter the website or IP address: \")\n",
    "tracert(domain)"
   ]
  },
  {
   "cell_type": "markdown",
   "metadata": {},
   "source": [
    "The output of tracert should show a list of routers (hops) that the packets traversed to reach the destination. For each hop it typically displays:\n",
    "\n",
    "- Hop Number\n",
    "- IP address/hostname of the router\n",
    "- Round Trip Time (RTT), th etime it takes for the packet to reach the router and for the \"Time Exceeded\" mesage to return. tracert usually shows three RTT measurements for each hop, as it sends multiple probes.\n",
    "\n",
    "Exercise 3:\n",
    "\n",
    "However in my case, I got the number of hops, but no RTTs or IP addresses and hostnames, instead only \"Request Timed Out\" messaged, except for the final destination. I suspect this could be an issue with the campus network I was connected to, and may behave differently on a home network.\n",
    "\n",
    "Copy of my output: \n",
    "\n",
    "Tracing route to youtube.com [216.58.212.206]\n",
    "over a maximum of 30 hops:\n",
    "\n",
    "  1     *        *        *     Request timed out.\n",
    "  2     *        *        *     Request timed out.\n",
    "  3     *        *        *     Request timed out.\n",
    "  4     *        *        *     Request timed out.\n",
    "  5     *        *        *     Request timed out.\n",
    "  6     *        *        *     Request timed out.\n",
    "  7     *        *        *     Request timed out.\n",
    "  8     *        *        *     Request timed out.\n",
    "  9     5 ms     2 ms     3 ms  lhr25s27-in-f14.1e100.net [216.58.212.206] \n",
    "\n",
    "Trace complete.\n",
    "\n",
    "Below is another attempt on a home network:\n",
    "\n",
    "Exercise 4: Identify potential bottlenecks or slow points in the network path.\n",
    "\n"
   ]
  },
  {
   "cell_type": "markdown",
   "metadata": {},
   "source": [
    "This script simulates a very basic web browser."
   ]
  },
  {
   "cell_type": "code",
   "execution_count": 11,
   "metadata": {},
   "outputs": [
    {
     "name": "stdout",
     "output_type": "stream",
     "text": [
      "HTTP/1.1 301 Moved Permanently\n",
      "Content-Type: application/binary\n",
      "X-Content-Type-Options: nosniff\n",
      "Cache-Control: no-cache, no-store, max-age=0, must-revalidate\n",
      "Pragma: no-cache\n",
      "Expires: Mon, 01 Jan 1990 00:00:00 GMT\n",
      "Date: Thu, 30 Jan 2025 13:47:44 GMT\n",
      "Location: https://www.youtube.com/\n",
      "Server: ESF\n",
      "Content-Length: 0\n",
      "X-XSS-Protection: 0\n",
      "X-Frame-Options: SAMEORIGIN\n",
      "\n",
      "\n"
     ]
    }
   ],
   "source": [
    "import socket\n",
    "\n",
    "# create a socket object\n",
    "client_socket = socket.socket(socket.AF_INET, socket.SOCK_STREAM)\n",
    "\n",
    "# definte the server address and port\n",
    "server_address = (\"www.example.com\", 80)\n",
    "\n",
    "# connect to the server\n",
    "client_socket.connect(server_address)\n",
    "\n",
    "# send a HTTP GET request\n",
    "request = \"GET / HTTP/1.1\\r\\nHost: www.example.com\\r\\n\\r\\n\"\n",
    "client_socket.send(request.encode())\n",
    "\n",
    "# recieve the response\n",
    "response = client_socket.recv(4096)\n",
    "print(response.decode())\n",
    "\n",
    "# close the socket\n",
    "client_socket.close()\n"
   ]
  },
  {
   "cell_type": "markdown",
   "metadata": {},
   "source": [
    "HTTP request types:\n",
    "\n",
    "• GET: Fetches data from a server (read-only).\n",
    "• POST: Sends data to a server to create or update a resource.\n",
    "• PUT: Updates an existing resource on the server.\n",
    "• DELETE: Deletes a resource on the server."
   ]
  },
  {
   "cell_type": "code",
   "execution_count": null,
   "metadata": {},
   "outputs": [],
   "source": [
    "# POST request\n",
    "\n",
    "import requests\n",
    "\n",
    "url = 'https://jsonplaceholder.typicode.com/posts'\n",
    "data = {\n",
    "    \"title\": \"Sample Post\",\n",
    "    \"body\": \"This is an example post body.\",\n",
    "    \"userId\": 1\n",
    "}\n",
    "\n",
    "response = requests.post(url, json=data)\n",
    "print(f\"Status Code: {response.status_code}\")\n",
    "print(\"Response Body:\", response.json())"
   ]
  },
  {
   "cell_type": "code",
   "execution_count": null,
   "metadata": {},
   "outputs": [],
   "source": [
    "# PUT request\n",
    "\n",
    "import requests\n",
    "\n",
    "url = 'https://jsonplaceholder.typicode.com/posts/1'\n",
    "updated_data = {\n",
    "    \"id\": 1,\n",
    "    \"title\": \"Updated Title\",\n",
    "    \"body\": \"This post content has been updated.\",\n",
    "    \"userId\": 1\n",
    "}\n",
    "\n",
    "response = requests.put(url, json=updated_data)\n",
    "print(f\"Status Code: {response.status_code}\")\n",
    "print(\"Updated Resource:\", response.json())"
   ]
  },
  {
   "cell_type": "code",
   "execution_count": null,
   "metadata": {},
   "outputs": [],
   "source": [
    "# PUT request\n",
    "\n",
    "import requests\n",
    "\n",
    "url = 'https://jsonplaceholder.typicode.com/posts/1'\n",
    "updated_data = {\n",
    "    \"id\": 1,\n",
    "    \"title\": \"Updated Title\",\n",
    "    \"body\": \"This post content has been updated.\",\n",
    "    \"userId\": 1\n",
    "}\n",
    "\n",
    "response = requests.put(url, json=updated_data)\n",
    "print(f\"Status Code: {response.status_code}\")\n",
    "print(\"Updated Resource:\", response.json())"
   ]
  },
  {
   "cell_type": "code",
   "execution_count": null,
   "metadata": {},
   "outputs": [],
   "source": [
    "# DELETE request\n",
    "\n",
    "import requests\n",
    "\n",
    "url = 'https://jsonplaceholder.typicode.com/posts/1'\n",
    "\n",
    "response = requests.delete(url)\n",
    "print(f\"Status Code: {response.status_code}\")\n",
    "if response.status_code == 200:\n",
    "    print(\"Resource successfully deleted.\")"
   ]
  }
 ],
 "metadata": {
  "kernelspec": {
   "display_name": "Python 3",
   "language": "python",
   "name": "python3"
  },
  "language_info": {
   "codemirror_mode": {
    "name": "ipython",
    "version": 3
   },
   "file_extension": ".py",
   "mimetype": "text/x-python",
   "name": "python",
   "nbconvert_exporter": "python",
   "pygments_lexer": "ipython3",
   "version": "3.12.7"
  }
 },
 "nbformat": 4,
 "nbformat_minor": 2
}
