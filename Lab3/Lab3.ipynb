{
 "cells": [
  {
   "cell_type": "code",
   "execution_count": 9,
   "metadata": {},
   "outputs": [
    {
     "name": "stdout",
     "output_type": "stream",
     "text": [
      "The IP address of youtube.com is 216.58.212.206\n"
     ]
    }
   ],
   "source": [
    "import socket\n",
    "\n",
    "def get_ip_address(website_url):\n",
    "    try:\n",
    "        ip_address = socket.gethostbyname(website_url)\n",
    "        print(f\"The IP address of {website_url} is {ip_address}\")\n",
    "    except socket.gaierror:\n",
    "        print(f\"Unable to get the IP address for {website_url}\")\n",
    "\n",
    "website = input(\"Enter the website URL (without 'https://'): \")\n",
    "get_ip_address(website)"
   ]
  },
  {
   "cell_type": "code",
   "execution_count": 10,
   "metadata": {},
   "outputs": [
    {
     "name": "stdout",
     "output_type": "stream",
     "text": [
      "\n",
      "Tracing route to youtube.com [216.58.212.206]\n",
      "over a maximum of 30 hops:\n",
      "\n",
      "  1     *        *        *     Request timed out.\n",
      "  2     *        *        *     Request timed out.\n",
      "  3     *        *        *     Request timed out.\n",
      "  4     *        *        *     Request timed out.\n",
      "  5     *        *        *     Request timed out.\n",
      "  6     *        *        *     Request timed out.\n",
      "  7     *        *        *     Request timed out.\n",
      "  8     *        *        *     Request timed out.\n",
      "  9     5 ms     2 ms     3 ms  lhr25s27-in-f14.1e100.net [216.58.212.206] \n",
      "\n",
      "Trace complete.\n",
      "\n"
     ]
    }
   ],
   "source": [
    "import subprocess\n",
    "\n",
    "def tracert(domain):\n",
    "    try:\n",
    "        result = subprocess.run([\"tracert\", domain], capture_output=True, text=True)\n",
    "        print(result.stdout)\n",
    "    except FileNotFoundError:\n",
    "        print(\"tracert command not found. Make sure it's available.\")\n",
    "    except Exception as e: #catching general exceptions\n",
    "        print(f\"An error occurred: {e}\")\n",
    "\n",
    "domain = input(\"Enter the website or IP address: \")\n",
    "tracert(domain)"
   ]
  },
  {
   "cell_type": "code",
   "execution_count": 11,
   "metadata": {},
   "outputs": [
    {
     "name": "stdout",
     "output_type": "stream",
     "text": [
      "HTTP/1.1 301 Moved Permanently\n",
      "Content-Type: application/binary\n",
      "X-Content-Type-Options: nosniff\n",
      "Cache-Control: no-cache, no-store, max-age=0, must-revalidate\n",
      "Pragma: no-cache\n",
      "Expires: Mon, 01 Jan 1990 00:00:00 GMT\n",
      "Date: Thu, 30 Jan 2025 13:47:44 GMT\n",
      "Location: https://www.youtube.com/\n",
      "Server: ESF\n",
      "Content-Length: 0\n",
      "X-XSS-Protection: 0\n",
      "X-Frame-Options: SAMEORIGIN\n",
      "\n",
      "\n"
     ]
    }
   ],
   "source": [
    "import socket\n",
    "\n",
    "# create a socket object\n",
    "client_socket = socket.socket(socket.AF_INET, socket.SOCK_STREAM)\n",
    "\n",
    "# definte the server address and port\n",
    "server_address = (\"www.example.com\", 80)\n",
    "\n",
    "# connect to the server\n",
    "client_socket.connect(server_address)\n",
    "\n",
    "# send a HTTP GET request\n",
    "request = \"GET / HTTP/1.1\\r\\nHost: www.example.com\\r\\n\\r\\n\"\n",
    "client_socket.send(request.encode())\n",
    "\n",
    "# recieve the response\n",
    "response = client_socket.recv(4096)\n",
    "print(response.decode())\n",
    "\n",
    "# close the socket\n",
    "client_socket.close()\n"
   ]
  }
 ],
 "metadata": {
  "kernelspec": {
   "display_name": "Python 3",
   "language": "python",
   "name": "python3"
  },
  "language_info": {
   "codemirror_mode": {
    "name": "ipython",
    "version": 3
   },
   "file_extension": ".py",
   "mimetype": "text/x-python",
   "name": "python",
   "nbconvert_exporter": "python",
   "pygments_lexer": "ipython3",
   "version": "3.12.7"
  }
 },
 "nbformat": 4,
 "nbformat_minor": 2
}
