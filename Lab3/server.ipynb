{
 "cells": [
  {
   "cell_type": "code",
   "execution_count": null,
   "metadata": {},
   "outputs": [
    {
     "name": "stdout",
     "output_type": "stream",
     "text": [
      "UDP Server is ready to recieve API data...\n",
      "Received data from ('127.0.0.1', 56075): \n",
      "[('127.0.0.1', 56075)]\n",
      "Received data from ('127.0.0.1', 60106): Hello there\n",
      "[('127.0.0.1', 56075), ('127.0.0.1', 60106)]\n",
      "Sent data to ('127.0.0.1', 56075): Hello there\n",
      "Received data from ('127.0.0.1', 56075): Hi\n",
      "Sent data to ('127.0.0.1', 60106): Hi\n",
      "Received data from ('127.0.0.1', 60106): hello\n",
      "Sent data to ('127.0.0.1', 56075): hello\n",
      "Received data from ('127.0.0.1', 56075): hi there\n",
      "Sent data to ('127.0.0.1', 60106): hi there\n"
     ]
    }
   ],
   "source": [
    "import socket\n",
    "\n",
    "server_socket = socket.socket(socket.AF_INET, socket.SOCK_DGRAM)\n",
    "server_socket.bind((\"localhost\", 65433))\n",
    "\n",
    "client_list = []\n",
    "\n",
    "print(\"UDP Server is ready to recieve API data...\")\n",
    "\n",
    "while True:\n",
    "    # Recieve data from client\n",
    "    data, client_address = server_socket.recvfrom(2048)\n",
    "    print(f\"Received data from {client_address}: {data.decode()}\")\n",
    "    # Save client address\n",
    "    if client_address not in client_list:\n",
    "        client_list.append(client_address)\n",
    "        print(client_list)\n",
    "    if data:\n",
    "        # Send data to other clients\n",
    "        for client in client_list:\n",
    "            if client != client_address:\n",
    "                server_socket.sendto(data, client)\n",
    "                print(f\"Sent data to {client}: {data.decode()}\")\n",
    "        "
   ]
  }
 ],
 "metadata": {
  "kernelspec": {
   "display_name": "Python 3",
   "language": "python",
   "name": "python3"
  },
  "language_info": {
   "codemirror_mode": {
    "name": "ipython",
    "version": 3
   },
   "file_extension": ".py",
   "mimetype": "text/x-python",
   "name": "python",
   "nbconvert_exporter": "python",
   "pygments_lexer": "ipython3",
   "version": "3.12.7"
  }
 },
 "nbformat": 4,
 "nbformat_minor": 2
}
