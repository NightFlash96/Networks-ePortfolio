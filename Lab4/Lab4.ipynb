{
 "cells": [
  {
   "cell_type": "markdown",
   "metadata": {},
   "source": [
    "In lab 4 we will be building a simple UDP server.\n",
    "\n",
    "Exercise 1: The code below is a chat application where clients can send messages using a server.\n",
    "\n",
    "Exercise 2: The code below was altered to create a dictionary of users' IP addresses that have already connected to the server."
   ]
  },
  {
   "cell_type": "code",
   "execution_count": 1,
   "metadata": {},
   "outputs": [
    {
     "name": "stdout",
     "output_type": "stream",
     "text": [
      "UDP Server is ready to recieve API data...\n",
      "Received data from ('127.0.0.1', 64599): \n",
      "[('127.0.0.1', 64599)]\n",
      "Received data from ('127.0.0.1', 61292): \n",
      "[('127.0.0.1', 64599), ('127.0.0.1', 61292)]\n",
      "Received data from ('127.0.0.1', 57703): Hello there\n",
      "[('127.0.0.1', 64599), ('127.0.0.1', 61292), ('127.0.0.1', 57703)]\n",
      "Sent data to ('127.0.0.1', 64599): Hello there\n",
      "Sent data to ('127.0.0.1', 61292): Hello there\n"
     ]
    },
    {
     "ename": "ConnectionResetError",
     "evalue": "[WinError 10054] An existing connection was forcibly closed by the remote host",
     "output_type": "error",
     "traceback": [
      "\u001b[1;31m---------------------------------------------------------------------------\u001b[0m",
      "\u001b[1;31mConnectionResetError\u001b[0m                      Traceback (most recent call last)",
      "Cell \u001b[1;32mIn[1], line 12\u001b[0m\n\u001b[0;32m      8\u001b[0m client_list \u001b[38;5;241m=\u001b[39m []\n\u001b[0;32m     10\u001b[0m \u001b[38;5;28;01mwhile\u001b[39;00m \u001b[38;5;28;01mTrue\u001b[39;00m:\n\u001b[0;32m     11\u001b[0m     \u001b[38;5;66;03m# Receive data from the client\u001b[39;00m\n\u001b[1;32m---> 12\u001b[0m     data, client_address \u001b[38;5;241m=\u001b[39m \u001b[43mserver_socket\u001b[49m\u001b[38;5;241;43m.\u001b[39;49m\u001b[43mrecvfrom\u001b[49m\u001b[43m(\u001b[49m\u001b[38;5;241;43m2048\u001b[39;49m\u001b[43m)\u001b[49m\n\u001b[0;32m     13\u001b[0m     \u001b[38;5;28mprint\u001b[39m(\u001b[38;5;124mf\u001b[39m\u001b[38;5;124m\"\u001b[39m\u001b[38;5;124mReceived data from \u001b[39m\u001b[38;5;132;01m{\u001b[39;00mclient_address\u001b[38;5;132;01m}\u001b[39;00m\u001b[38;5;124m: \u001b[39m\u001b[38;5;132;01m{\u001b[39;00mdata\u001b[38;5;241m.\u001b[39mdecode()\u001b[38;5;132;01m}\u001b[39;00m\u001b[38;5;124m\"\u001b[39m)\n\u001b[0;32m     14\u001b[0m     \u001b[38;5;66;03m# Check if the client is already in the list\u001b[39;00m\n",
      "\u001b[1;31mConnectionResetError\u001b[0m: [WinError 10054] An existing connection was forcibly closed by the remote host"
     ]
    }
   ],
   "source": [
    "import socket\n",
    "\n",
    "server_socket = socket.socket(socket.AF_INET, socket.SOCK_DGRAM)\n",
    "server_socket.bind((\"localhost\", 65433))\n",
    "\n",
    "print(\"UDP Server is ready to recieve API data...\")\n",
    "\n",
    "client_list = []\n",
    "\n",
    "while True:\n",
    "    # Receive data from the client\n",
    "    data, client_address = server_socket.recvfrom(2048)\n",
    "    print(f\"Received data from {client_address}: {data.decode()}\")\n",
    "    # Check if the client is already in the list\n",
    "    if client_address not in client_list:\n",
    "        client_list.append(client_address)\n",
    "        print(client_list)\n",
    "\n",
    "    if data: # check if data is not empty\n",
    "        # Send to the other clients\n",
    "        for client in client_list:\n",
    "            if client != client_address:\n",
    "                server_socket.sendto(data, client)\n",
    "                print(f\"Sent data to {client}: {data.decode()}\")"
   ]
  }
 ],
 "metadata": {
  "kernelspec": {
   "display_name": "Python 3",
   "language": "python",
   "name": "python3"
  },
  "language_info": {
   "codemirror_mode": {
    "name": "ipython",
    "version": 3
   },
   "file_extension": ".py",
   "mimetype": "text/x-python",
   "name": "python",
   "nbconvert_exporter": "python",
   "pygments_lexer": "ipython3",
   "version": "3.12.7"
  }
 },
 "nbformat": 4,
 "nbformat_minor": 2
}
